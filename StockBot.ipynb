{
  "nbformat": 4,
  "nbformat_minor": 0,
  "metadata": {
    "colab": {
      "provenance": []
    },
    "kernelspec": {
      "name": "python3",
      "display_name": "Python 3"
    },
    "language_info": {
      "name": "python"
    }
  },
  "cells": [
    {
      "cell_type": "code",
      "execution_count": null,
      "metadata": {
        "id": "vZLHk8f-4sIW"
      },
      "outputs": [],
      "source": [
        "import yfinance as yf\n",
        "import pandas as pd\n",
        "from sklearn.ensemble import RandomForestClassifier"
      ]
    },
    {
      "cell_type": "code",
      "source": [
        "sp500 = yf.Ticker(\"QQQ\")"
      ],
      "metadata": {
        "id": "gWWI9NB44xJ2"
      },
      "execution_count": null,
      "outputs": []
    },
    {
      "cell_type": "code",
      "source": [
        "sp500 = sp500.history(period=\"max\")"
      ],
      "metadata": {
        "id": "95TwrQib40To"
      },
      "execution_count": null,
      "outputs": []
    },
    {
      "cell_type": "code",
      "source": [
        "sp500"
      ],
      "metadata": {
        "colab": {
          "base_uri": "https://localhost:8080/",
          "height": 455
        },
        "id": "sPWcdYAk45H9",
        "outputId": "377c6469-6080-470c-9f0c-e6b2f70f10c5"
      },
      "execution_count": null,
      "outputs": [
        {
          "output_type": "execute_result",
          "data": {
            "text/plain": [
              "                                 Open        High         Low       Close  \\\n",
              "Date                                                                        \n",
              "1999-03-10 00:00:00-05:00   43.831920   43.858712   43.108532   43.778336   \n",
              "1999-03-11 00:00:00-05:00   44.099829   44.354354   43.135313   43.992661   \n",
              "1999-03-12 00:00:00-05:00   43.831938   43.858730   42.572707   42.921005   \n",
              "1999-03-15 00:00:00-05:00   43.242495   44.207011   42.787029   44.153427   \n",
              "1999-03-16 00:00:00-05:00   44.340993   44.716083   43.858734   44.528538   \n",
              "...                               ...         ...         ...         ...   \n",
              "2023-08-14 00:00:00-04:00  365.429993  370.470001  364.700012  370.350006   \n",
              "2023-08-15 00:00:00-04:00  369.359985  370.170013  365.739990  366.420013   \n",
              "2023-08-16 00:00:00-04:00  365.869995  367.429993  362.440002  362.540009   \n",
              "2023-08-17 00:00:00-04:00  363.959991  364.309998  358.160004  358.579987   \n",
              "2023-08-18 00:00:00-04:00  355.260010  359.410004  354.709991  358.130005   \n",
              "\n",
              "                             Volume  Dividends  Stock Splits  Capital Gains  \n",
              "Date                                                                         \n",
              "1999-03-10 00:00:00-05:00   5232000        0.0           0.0            0.0  \n",
              "1999-03-11 00:00:00-05:00   9688600        0.0           0.0            0.0  \n",
              "1999-03-12 00:00:00-05:00   8743600        0.0           0.0            0.0  \n",
              "1999-03-15 00:00:00-05:00   6369000        0.0           0.0            0.0  \n",
              "1999-03-16 00:00:00-05:00   4905800        0.0           0.0            0.0  \n",
              "...                             ...        ...           ...            ...  \n",
              "2023-08-14 00:00:00-04:00  42130800        0.0           0.0            0.0  \n",
              "2023-08-15 00:00:00-04:00  45539900        0.0           0.0            0.0  \n",
              "2023-08-16 00:00:00-04:00  53190500        0.0           0.0            0.0  \n",
              "2023-08-17 00:00:00-04:00  62604300        0.0           0.0            0.0  \n",
              "2023-08-18 00:00:00-04:00  61119500        0.0           0.0            0.0  \n",
              "\n",
              "[6152 rows x 8 columns]"
            ],
            "text/html": [
              "\n",
              "  <div id=\"df-885c2b12-6585-450d-adcf-c143ff5400bd\" class=\"colab-df-container\">\n",
              "    <div>\n",
              "<style scoped>\n",
              "    .dataframe tbody tr th:only-of-type {\n",
              "        vertical-align: middle;\n",
              "    }\n",
              "\n",
              "    .dataframe tbody tr th {\n",
              "        vertical-align: top;\n",
              "    }\n",
              "\n",
              "    .dataframe thead th {\n",
              "        text-align: right;\n",
              "    }\n",
              "</style>\n",
              "<table border=\"1\" class=\"dataframe\">\n",
              "  <thead>\n",
              "    <tr style=\"text-align: right;\">\n",
              "      <th></th>\n",
              "      <th>Open</th>\n",
              "      <th>High</th>\n",
              "      <th>Low</th>\n",
              "      <th>Close</th>\n",
              "      <th>Volume</th>\n",
              "      <th>Dividends</th>\n",
              "      <th>Stock Splits</th>\n",
              "      <th>Capital Gains</th>\n",
              "    </tr>\n",
              "    <tr>\n",
              "      <th>Date</th>\n",
              "      <th></th>\n",
              "      <th></th>\n",
              "      <th></th>\n",
              "      <th></th>\n",
              "      <th></th>\n",
              "      <th></th>\n",
              "      <th></th>\n",
              "      <th></th>\n",
              "    </tr>\n",
              "  </thead>\n",
              "  <tbody>\n",
              "    <tr>\n",
              "      <th>1999-03-10 00:00:00-05:00</th>\n",
              "      <td>43.831920</td>\n",
              "      <td>43.858712</td>\n",
              "      <td>43.108532</td>\n",
              "      <td>43.778336</td>\n",
              "      <td>5232000</td>\n",
              "      <td>0.0</td>\n",
              "      <td>0.0</td>\n",
              "      <td>0.0</td>\n",
              "    </tr>\n",
              "    <tr>\n",
              "      <th>1999-03-11 00:00:00-05:00</th>\n",
              "      <td>44.099829</td>\n",
              "      <td>44.354354</td>\n",
              "      <td>43.135313</td>\n",
              "      <td>43.992661</td>\n",
              "      <td>9688600</td>\n",
              "      <td>0.0</td>\n",
              "      <td>0.0</td>\n",
              "      <td>0.0</td>\n",
              "    </tr>\n",
              "    <tr>\n",
              "      <th>1999-03-12 00:00:00-05:00</th>\n",
              "      <td>43.831938</td>\n",
              "      <td>43.858730</td>\n",
              "      <td>42.572707</td>\n",
              "      <td>42.921005</td>\n",
              "      <td>8743600</td>\n",
              "      <td>0.0</td>\n",
              "      <td>0.0</td>\n",
              "      <td>0.0</td>\n",
              "    </tr>\n",
              "    <tr>\n",
              "      <th>1999-03-15 00:00:00-05:00</th>\n",
              "      <td>43.242495</td>\n",
              "      <td>44.207011</td>\n",
              "      <td>42.787029</td>\n",
              "      <td>44.153427</td>\n",
              "      <td>6369000</td>\n",
              "      <td>0.0</td>\n",
              "      <td>0.0</td>\n",
              "      <td>0.0</td>\n",
              "    </tr>\n",
              "    <tr>\n",
              "      <th>1999-03-16 00:00:00-05:00</th>\n",
              "      <td>44.340993</td>\n",
              "      <td>44.716083</td>\n",
              "      <td>43.858734</td>\n",
              "      <td>44.528538</td>\n",
              "      <td>4905800</td>\n",
              "      <td>0.0</td>\n",
              "      <td>0.0</td>\n",
              "      <td>0.0</td>\n",
              "    </tr>\n",
              "    <tr>\n",
              "      <th>...</th>\n",
              "      <td>...</td>\n",
              "      <td>...</td>\n",
              "      <td>...</td>\n",
              "      <td>...</td>\n",
              "      <td>...</td>\n",
              "      <td>...</td>\n",
              "      <td>...</td>\n",
              "      <td>...</td>\n",
              "    </tr>\n",
              "    <tr>\n",
              "      <th>2023-08-14 00:00:00-04:00</th>\n",
              "      <td>365.429993</td>\n",
              "      <td>370.470001</td>\n",
              "      <td>364.700012</td>\n",
              "      <td>370.350006</td>\n",
              "      <td>42130800</td>\n",
              "      <td>0.0</td>\n",
              "      <td>0.0</td>\n",
              "      <td>0.0</td>\n",
              "    </tr>\n",
              "    <tr>\n",
              "      <th>2023-08-15 00:00:00-04:00</th>\n",
              "      <td>369.359985</td>\n",
              "      <td>370.170013</td>\n",
              "      <td>365.739990</td>\n",
              "      <td>366.420013</td>\n",
              "      <td>45539900</td>\n",
              "      <td>0.0</td>\n",
              "      <td>0.0</td>\n",
              "      <td>0.0</td>\n",
              "    </tr>\n",
              "    <tr>\n",
              "      <th>2023-08-16 00:00:00-04:00</th>\n",
              "      <td>365.869995</td>\n",
              "      <td>367.429993</td>\n",
              "      <td>362.440002</td>\n",
              "      <td>362.540009</td>\n",
              "      <td>53190500</td>\n",
              "      <td>0.0</td>\n",
              "      <td>0.0</td>\n",
              "      <td>0.0</td>\n",
              "    </tr>\n",
              "    <tr>\n",
              "      <th>2023-08-17 00:00:00-04:00</th>\n",
              "      <td>363.959991</td>\n",
              "      <td>364.309998</td>\n",
              "      <td>358.160004</td>\n",
              "      <td>358.579987</td>\n",
              "      <td>62604300</td>\n",
              "      <td>0.0</td>\n",
              "      <td>0.0</td>\n",
              "      <td>0.0</td>\n",
              "    </tr>\n",
              "    <tr>\n",
              "      <th>2023-08-18 00:00:00-04:00</th>\n",
              "      <td>355.260010</td>\n",
              "      <td>359.410004</td>\n",
              "      <td>354.709991</td>\n",
              "      <td>358.130005</td>\n",
              "      <td>61119500</td>\n",
              "      <td>0.0</td>\n",
              "      <td>0.0</td>\n",
              "      <td>0.0</td>\n",
              "    </tr>\n",
              "  </tbody>\n",
              "</table>\n",
              "<p>6152 rows × 8 columns</p>\n",
              "</div>\n",
              "    <div class=\"colab-df-buttons\">\n",
              "\n",
              "  <div class=\"colab-df-container\">\n",
              "    <button class=\"colab-df-convert\" onclick=\"convertToInteractive('df-885c2b12-6585-450d-adcf-c143ff5400bd')\"\n",
              "            title=\"Convert this dataframe to an interactive table.\"\n",
              "            style=\"display:none;\">\n",
              "\n",
              "  <svg xmlns=\"http://www.w3.org/2000/svg\" height=\"24px\" viewBox=\"0 -960 960 960\">\n",
              "    <path d=\"M120-120v-720h720v720H120Zm60-500h600v-160H180v160Zm220 220h160v-160H400v160Zm0 220h160v-160H400v160ZM180-400h160v-160H180v160Zm440 0h160v-160H620v160ZM180-180h160v-160H180v160Zm440 0h160v-160H620v160Z\"/>\n",
              "  </svg>\n",
              "    </button>\n",
              "\n",
              "  <style>\n",
              "    .colab-df-container {\n",
              "      display:flex;\n",
              "      gap: 12px;\n",
              "    }\n",
              "\n",
              "    .colab-df-convert {\n",
              "      background-color: #E8F0FE;\n",
              "      border: none;\n",
              "      border-radius: 50%;\n",
              "      cursor: pointer;\n",
              "      display: none;\n",
              "      fill: #1967D2;\n",
              "      height: 32px;\n",
              "      padding: 0 0 0 0;\n",
              "      width: 32px;\n",
              "    }\n",
              "\n",
              "    .colab-df-convert:hover {\n",
              "      background-color: #E2EBFA;\n",
              "      box-shadow: 0px 1px 2px rgba(60, 64, 67, 0.3), 0px 1px 3px 1px rgba(60, 64, 67, 0.15);\n",
              "      fill: #174EA6;\n",
              "    }\n",
              "\n",
              "    .colab-df-buttons div {\n",
              "      margin-bottom: 4px;\n",
              "    }\n",
              "\n",
              "    [theme=dark] .colab-df-convert {\n",
              "      background-color: #3B4455;\n",
              "      fill: #D2E3FC;\n",
              "    }\n",
              "\n",
              "    [theme=dark] .colab-df-convert:hover {\n",
              "      background-color: #434B5C;\n",
              "      box-shadow: 0px 1px 3px 1px rgba(0, 0, 0, 0.15);\n",
              "      filter: drop-shadow(0px 1px 2px rgba(0, 0, 0, 0.3));\n",
              "      fill: #FFFFFF;\n",
              "    }\n",
              "  </style>\n",
              "\n",
              "    <script>\n",
              "      const buttonEl =\n",
              "        document.querySelector('#df-885c2b12-6585-450d-adcf-c143ff5400bd button.colab-df-convert');\n",
              "      buttonEl.style.display =\n",
              "        google.colab.kernel.accessAllowed ? 'block' : 'none';\n",
              "\n",
              "      async function convertToInteractive(key) {\n",
              "        const element = document.querySelector('#df-885c2b12-6585-450d-adcf-c143ff5400bd');\n",
              "        const dataTable =\n",
              "          await google.colab.kernel.invokeFunction('convertToInteractive',\n",
              "                                                    [key], {});\n",
              "        if (!dataTable) return;\n",
              "\n",
              "        const docLinkHtml = 'Like what you see? Visit the ' +\n",
              "          '<a target=\"_blank\" href=https://colab.research.google.com/notebooks/data_table.ipynb>data table notebook</a>'\n",
              "          + ' to learn more about interactive tables.';\n",
              "        element.innerHTML = '';\n",
              "        dataTable['output_type'] = 'display_data';\n",
              "        await google.colab.output.renderOutput(dataTable, element);\n",
              "        const docLink = document.createElement('div');\n",
              "        docLink.innerHTML = docLinkHtml;\n",
              "        element.appendChild(docLink);\n",
              "      }\n",
              "    </script>\n",
              "  </div>\n",
              "\n",
              "\n",
              "<div id=\"df-c25d4385-dc4c-4f8b-a45a-8c80075f50f8\">\n",
              "  <button class=\"colab-df-quickchart\" onclick=\"quickchart('df-c25d4385-dc4c-4f8b-a45a-8c80075f50f8')\"\n",
              "            title=\"Suggest charts.\"\n",
              "            style=\"display:none;\">\n",
              "\n",
              "<svg xmlns=\"http://www.w3.org/2000/svg\" height=\"24px\"viewBox=\"0 0 24 24\"\n",
              "     width=\"24px\">\n",
              "    <g>\n",
              "        <path d=\"M19 3H5c-1.1 0-2 .9-2 2v14c0 1.1.9 2 2 2h14c1.1 0 2-.9 2-2V5c0-1.1-.9-2-2-2zM9 17H7v-7h2v7zm4 0h-2V7h2v10zm4 0h-2v-4h2v4z\"/>\n",
              "    </g>\n",
              "</svg>\n",
              "  </button>\n",
              "\n",
              "<style>\n",
              "  .colab-df-quickchart {\n",
              "    background-color: #E8F0FE;\n",
              "    border: none;\n",
              "    border-radius: 50%;\n",
              "    cursor: pointer;\n",
              "    display: none;\n",
              "    fill: #1967D2;\n",
              "    height: 32px;\n",
              "    padding: 0 0 0 0;\n",
              "    width: 32px;\n",
              "  }\n",
              "\n",
              "  .colab-df-quickchart:hover {\n",
              "    background-color: #E2EBFA;\n",
              "    box-shadow: 0px 1px 2px rgba(60, 64, 67, 0.3), 0px 1px 3px 1px rgba(60, 64, 67, 0.15);\n",
              "    fill: #174EA6;\n",
              "  }\n",
              "\n",
              "  [theme=dark] .colab-df-quickchart {\n",
              "    background-color: #3B4455;\n",
              "    fill: #D2E3FC;\n",
              "  }\n",
              "\n",
              "  [theme=dark] .colab-df-quickchart:hover {\n",
              "    background-color: #434B5C;\n",
              "    box-shadow: 0px 1px 3px 1px rgba(0, 0, 0, 0.15);\n",
              "    filter: drop-shadow(0px 1px 2px rgba(0, 0, 0, 0.3));\n",
              "    fill: #FFFFFF;\n",
              "  }\n",
              "</style>\n",
              "\n",
              "  <script>\n",
              "    async function quickchart(key) {\n",
              "      const charts = await google.colab.kernel.invokeFunction(\n",
              "          'suggestCharts', [key], {});\n",
              "    }\n",
              "    (() => {\n",
              "      let quickchartButtonEl =\n",
              "        document.querySelector('#df-c25d4385-dc4c-4f8b-a45a-8c80075f50f8 button');\n",
              "      quickchartButtonEl.style.display =\n",
              "        google.colab.kernel.accessAllowed ? 'block' : 'none';\n",
              "    })();\n",
              "  </script>\n",
              "</div>\n",
              "    </div>\n",
              "  </div>\n"
            ]
          },
          "metadata": {},
          "execution_count": 152
        }
      ]
    },
    {
      "cell_type": "code",
      "source": [
        "sp500.index"
      ],
      "metadata": {
        "colab": {
          "base_uri": "https://localhost:8080/"
        },
        "id": "-343T7lG5CZ6",
        "outputId": "fd27be8c-f1d5-470f-9556-f99a17b850e3"
      },
      "execution_count": null,
      "outputs": [
        {
          "output_type": "execute_result",
          "data": {
            "text/plain": [
              "DatetimeIndex(['1999-03-10 00:00:00-05:00', '1999-03-11 00:00:00-05:00',\n",
              "               '1999-03-12 00:00:00-05:00', '1999-03-15 00:00:00-05:00',\n",
              "               '1999-03-16 00:00:00-05:00', '1999-03-17 00:00:00-05:00',\n",
              "               '1999-03-18 00:00:00-05:00', '1999-03-19 00:00:00-05:00',\n",
              "               '1999-03-22 00:00:00-05:00', '1999-03-23 00:00:00-05:00',\n",
              "               ...\n",
              "               '2023-08-07 00:00:00-04:00', '2023-08-08 00:00:00-04:00',\n",
              "               '2023-08-09 00:00:00-04:00', '2023-08-10 00:00:00-04:00',\n",
              "               '2023-08-11 00:00:00-04:00', '2023-08-14 00:00:00-04:00',\n",
              "               '2023-08-15 00:00:00-04:00', '2023-08-16 00:00:00-04:00',\n",
              "               '2023-08-17 00:00:00-04:00', '2023-08-18 00:00:00-04:00'],\n",
              "              dtype='datetime64[ns, America/New_York]', name='Date', length=6152, freq=None)"
            ]
          },
          "metadata": {},
          "execution_count": 108
        }
      ]
    },
    {
      "cell_type": "code",
      "source": [
        "sp500.plot.line(y=\"Close\", use_index=True)"
      ],
      "metadata": {
        "colab": {
          "base_uri": "https://localhost:8080/",
          "height": 440
        },
        "id": "fKWjs_9T5OxT",
        "outputId": "d1b7502b-bcfc-4558-b4b2-e8e7ee8c8c2b"
      },
      "execution_count": null,
      "outputs": [
        {
          "output_type": "execute_result",
          "data": {
            "text/plain": [
              "<Axes: xlabel='Date'>"
            ]
          },
          "metadata": {},
          "execution_count": 109
        },
        {
          "output_type": "display_data",
          "data": {
            "text/plain": [
              "<Figure size 640x480 with 1 Axes>"
            ],
            "image/png": "[encoded data removed]"
          },
          "metadata": {}
        }
      ]
    },
    {
      "cell_type": "code",
      "source": [
        "del sp500[\"Dividends\"]\n",
        "del sp500[\"Stock Splits\"]\n",
        "del sp500[\"Capital Gains\"]"
      ],
      "metadata": {
        "id": "6zBwr25x5YPX"
      },
      "execution_count": null,
      "outputs": []
    },
    {
      "cell_type": "code",
      "source": [
        "sp500[\"Tomorrow\"] = sp500[\"Close\"].shift(-1)"
      ],
      "metadata": {
        "id": "R3XWQatc5h4G"
      },
      "execution_count": null,
      "outputs": []
    },
    {
      "cell_type": "code",
      "source": [
        "sp500[\"Target\"] = (sp500[\"Tomorrow\"] > sp500[\"Close\"]).astype(int)"
      ],
      "metadata": {
        "id": "5w5CvT4p54ri"
      },
      "execution_count": null,
      "outputs": []
    },
    {
      "cell_type": "code",
      "source": [
        "sp500 = sp500.loc[\"1990-01-01\":].copy()"
      ],
      "metadata": {
        "id": "HjYDlhuI56Kc"
      },
      "execution_count": null,
      "outputs": []
    },
    {
      "cell_type": "code",
      "source": [
        "sp500.plot.line(y=\"Close\", use_index=True)"
      ],
      "metadata": {
        "colab": {
          "base_uri": "https://localhost:8080/",
          "height": 440
        },
        "id": "NoY3w5hv6MBZ",
        "outputId": "68022bb7-c72f-4a0f-87af-d8a459853f45"
      },
      "execution_count": null,
      "outputs": [
        {
          "output_type": "execute_result",
          "data": {
            "text/plain": [
              "<Axes: xlabel='Date'>"
            ]
          },
          "metadata": {},
          "execution_count": 174
        },
        {
          "output_type": "display_data",
          "data": {
            "text/plain": [
              "<Figure size 640x480 with 1 Axes>"
            ],
            "image/png": "[encoded data removed]"
          },
          "metadata": {}
        }
      ]
    },
    {
      "cell_type": "code",
      "source": [
        "def predict(train, test, predictors, model):\n",
        "  model.fit(train[predictors], train[\"Target\"])\n",
        "  preds = model.predict_proba(test[predictors])[:,1]\n",
        "  preds[preds >= .6] = 1\n",
        "  preds[preds < .6] = 0\n",
        "  preds = pd.Series(preds, index=test.index, name=\"Predictions\")\n",
        "  combined = pd.concat([test[\"Target\"], preds], axis=1)\n",
        "  return combined"
      ],
      "metadata": {
        "id": "LsvE0mQc9xNf"
      },
      "execution_count": null,
      "outputs": []
    },
    {
      "cell_type": "code",
      "source": [
        "def backtest(data, model, predictors, start=2500, step=250):\n",
        "  all_predictions = []\n",
        "\n",
        "  for i in range(start, data.shape[0], step):\n",
        "    train = data.iloc[:i].copy()\n",
        "    test = data.iloc[i:(i+step)].copy()\n",
        "    predictions = predict(train, test, predictors, model)\n",
        "    all_predictions.append(predictions)\n",
        "  return pd.concat(all_predictions)"
      ],
      "metadata": {
        "id": "GeP_1cNY-Uwk"
      },
      "execution_count": null,
      "outputs": []
    },
    {
      "cell_type": "code",
      "source": [
        "horizons = [2, 5, 10, 30, 50]\n",
        "new_predictors = []\n",
        "\n",
        "for horizon in horizons:\n",
        "  rolling_average = sp500.rolling(horizon).mean()\n",
        "  ratio_column = f\"Close_Ratio_{horizon}\"\n",
        "  sp500[ratio_column] = sp500[\"Close\"] / rolling_average[\"Close\"]\n",
        "\n",
        "  trend_column = f\"Trend_{horizon}\"\n",
        "  sp500[trend_column] = sp500.shift(1).rolling(horizon).sum()[\"Target\"]\n",
        "\n",
        "  new_predictors += [ratio_column, trend_column]\n",
        "\n",
        "sp500 = sp500.dropna()"
      ],
      "metadata": {
        "id": "6jfMcIDgDJdL"
      },
      "execution_count": null,
      "outputs": []
    },
    {
      "cell_type": "code",
      "source": [
        "model = RandomForestClassifier(n_estimators=500, min_samples_split=25, random_state=1)"
      ],
      "metadata": {
        "id": "X51H-JmD6dFE"
      },
      "execution_count": null,
      "outputs": []
    },
    {
      "cell_type": "code",
      "source": [
        "predictions = backtest(sp500, model, new_predictors)\n",
        "precision_score(predictions[\"Target\"], predictions[\"Predictions\"])\n",
        "#min samples = 200, .6, 0.5943877551020408\n",
        "#min samples = 200, .59, 0.5772495755517827\n",
        "#min samples = 50, .59, 0.5782145782145782\n",
        "#min samples = 20, .59, 0.5818601076095311\n",
        "#min samples = 25, .59, 0.5847723704866562 <-- this"
      ],
      "metadata": {
        "colab": {
          "base_uri": "https://localhost:8080/"
        },
        "id": "iilknQv7AJfy",
        "outputId": "710fe314-35fa-46af-9d6c-52ae82a60b83"
      },
      "execution_count": null,
      "outputs": [
        {
          "output_type": "execute_result",
          "data": {
            "text/plain": [
              "0.5842696629213483"
            ]
          },
          "metadata": {},
          "execution_count": 179
        }
      ]
    },
    {
      "cell_type": "code",
      "source": [
        "predictions[\"Predictions\"].value_counts()"
      ],
      "metadata": {
        "colab": {
          "base_uri": "https://localhost:8080/"
        },
        "id": "uvCrq8hmCD62",
        "outputId": "86dd0c06-1995-451d-d7a2-5124d941dbc6"
      },
      "execution_count": null,
      "outputs": [
        {
          "output_type": "execute_result",
          "data": {
            "text/plain": [
              "0.0    2889\n",
              "1.0     712\n",
              "Name: Predictions, dtype: int64"
            ]
          },
          "metadata": {},
          "execution_count": 180
        }
      ]
    },
    {
      "cell_type": "code",
      "source": [
        "predictions[\"Target\"].value_counts()/predictions.shape[0]"
      ],
      "metadata": {
        "colab": {
          "base_uri": "https://localhost:8080/"
        },
        "id": "L_tHivYxCZbZ",
        "outputId": "5e326cf2-7c71-461a-c03d-183eaadf21d5"
      },
      "execution_count": null,
      "outputs": [
        {
          "output_type": "execute_result",
          "data": {
            "text/plain": [
              "1    0.559034\n",
              "0    0.440966\n",
              "Name: Target, dtype: float64"
            ]
          },
          "metadata": {},
          "execution_count": 120
        }
      ]
    },
    {
      "cell_type": "code",
      "source": [],
      "metadata": {
        "id": "LCdYqLTd6vvC"
      },
      "execution_count": null,
      "outputs": []
    },
    {
      "cell_type": "code",
      "source": [],
      "metadata": {
        "id": "ngpIKRvm8GVa"
      },
      "execution_count": null,
      "outputs": []
    },
    {
      "cell_type": "code",
      "source": [],
      "metadata": {
        "colab": {
          "base_uri": "https://localhost:8080/"
        },
        "id": "va-nNDFS8TQP",
        "outputId": "0e80b9c1-2613-46bf-c263-422669d21bc7"
      },
      "execution_count": null,
      "outputs": [
        {
          "output_type": "execute_result",
          "data": {
            "text/plain": [
              "0.5625"
            ]
          },
          "metadata": {},
          "execution_count": 22
        }
      ]
    },
    {
      "cell_type": "code",
      "source": [],
      "metadata": {
        "id": "IdCDHtPa8UX8"
      },
      "execution_count": null,
      "outputs": []
    },
    {
      "cell_type": "code",
      "source": [],
      "metadata": {
        "id": "xPNOOORY9aQu"
      },
      "execution_count": null,
      "outputs": []
    }
  ]
}